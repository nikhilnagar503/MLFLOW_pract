{
 "cells": [
  {
   "cell_type": "code",
   "execution_count": 2,
   "id": "fbfbd52f",
   "metadata": {},
   "outputs": [],
   "source": [
    "from sklearn.model_selection import GridSearchCV\n",
    "from sklearn.ensemble import RandomForestClassifier\n",
    "from sklearn.model_selection import train_test_split\n",
    "from sklearn.datasets import load_breast_cancer\n",
    "import pandas as pd\n",
    "import mlflow\n",
    "\n"
   ]
  },
  {
   "cell_type": "code",
   "execution_count": 3,
   "id": "1505ec6d",
   "metadata": {},
   "outputs": [],
   "source": [
    "# Load the Breast Cancer dataset\n",
    "data = load_breast_cancer()\n",
    "X = pd.DataFrame(data.data, columns=data.feature_names)\n",
    "y = pd.Series(data.target, name='target')\n",
    "\n",
    "\n"
   ]
  },
  {
   "cell_type": "code",
   "execution_count": 4,
   "id": "3c7a8241",
   "metadata": {},
   "outputs": [],
   "source": [
    "# Splitting into training and testing sets\n",
    "X_train, X_test, y_train, y_test = train_test_split(X, y, test_size=0.2, random_state=42)\n",
    "\n",
    "# Creating the RandomForestClassifier model\n",
    "rf = RandomForestClassifier(random_state=42)"
   ]
  },
  {
   "cell_type": "code",
   "execution_count": 5,
   "id": "62f42823",
   "metadata": {},
   "outputs": [],
   "source": [
    "param_grid = {\n",
    "    'n_estimators': [10, 50, 100],\n",
    "    'max_depth': [None, 10, 20, 30]\n",
    "}\n",
    "\n",
    "\n",
    "# Applying GridSearchCV\n",
    "grid_search = GridSearchCV(estimator=rf, param_grid=param_grid, cv=5, n_jobs=-1, verbose=2)"
   ]
  },
  {
   "cell_type": "code",
   "execution_count": null,
   "id": "632b3b78",
   "metadata": {},
   "outputs": [
    {
     "name": "stderr",
     "output_type": "stream",
     "text": [
      "2025/05/26 03:09:21 INFO mlflow.tracking.fluent: Experiment with name 'breast-cancer-rf-hp' does not exist. Creating a new experiment.\n"
     ]
    },
    {
     "name": "stdout",
     "output_type": "stream",
     "text": [
      "Fitting 5 folds for each of 12 candidates, totalling 60 fits\n",
      "🏃 View run selective-rat-625 at: http://127.0.0.1:5000/#/experiments/894759314910987422/runs/3f8dc101c0a3459fb25c75f77e4dce17\n",
      "🧪 View experiment at: http://127.0.0.1:5000/#/experiments/894759314910987422\n",
      "🏃 View run bald-perch-797 at: http://127.0.0.1:5000/#/experiments/894759314910987422/runs/baa111b7fb5d44a6835b1f03680d3f5c\n",
      "🧪 View experiment at: http://127.0.0.1:5000/#/experiments/894759314910987422\n",
      "🏃 View run auspicious-bird-441 at: http://127.0.0.1:5000/#/experiments/894759314910987422/runs/f9cc4537924249e18b3769da3ff5f90e\n",
      "🧪 View experiment at: http://127.0.0.1:5000/#/experiments/894759314910987422\n",
      "🏃 View run gregarious-crane-566 at: http://127.0.0.1:5000/#/experiments/894759314910987422/runs/af8b51d9b99a4558b535935750ba6536\n",
      "🧪 View experiment at: http://127.0.0.1:5000/#/experiments/894759314910987422\n",
      "🏃 View run selective-stoat-82 at: http://127.0.0.1:5000/#/experiments/894759314910987422/runs/c84c5773a77d4722b82ece2d0650d803\n",
      "🧪 View experiment at: http://127.0.0.1:5000/#/experiments/894759314910987422\n",
      "🏃 View run colorful-elk-108 at: http://127.0.0.1:5000/#/experiments/894759314910987422/runs/deff2b3251ec43e1a80df9d42eafe219\n",
      "🧪 View experiment at: http://127.0.0.1:5000/#/experiments/894759314910987422\n",
      "🏃 View run enthused-zebra-113 at: http://127.0.0.1:5000/#/experiments/894759314910987422/runs/5fe683a63776450c830b0f328f68001f\n",
      "🧪 View experiment at: http://127.0.0.1:5000/#/experiments/894759314910987422\n",
      "🏃 View run exultant-hawk-781 at: http://127.0.0.1:5000/#/experiments/894759314910987422/runs/51b888ce3dc541af959552d2411d16fc\n",
      "🧪 View experiment at: http://127.0.0.1:5000/#/experiments/894759314910987422\n",
      "🏃 View run ambitious-owl-2 at: http://127.0.0.1:5000/#/experiments/894759314910987422/runs/8e2327ca395849eea0e7d59ccb73bde6\n",
      "🧪 View experiment at: http://127.0.0.1:5000/#/experiments/894759314910987422\n",
      "🏃 View run marvelous-wolf-328 at: http://127.0.0.1:5000/#/experiments/894759314910987422/runs/8456b298a8674bdea29c8557f02872d4\n",
      "🧪 View experiment at: http://127.0.0.1:5000/#/experiments/894759314910987422\n",
      "🏃 View run charming-slug-537 at: http://127.0.0.1:5000/#/experiments/894759314910987422/runs/aa62fc890cb34425b7829c7c7a4fcb52\n",
      "🧪 View experiment at: http://127.0.0.1:5000/#/experiments/894759314910987422\n",
      "🏃 View run zealous-gnu-242 at: http://127.0.0.1:5000/#/experiments/894759314910987422/runs/6185ef3f5e03424abcdd276e9f06096e\n",
      "🧪 View experiment at: http://127.0.0.1:5000/#/experiments/894759314910987422\n"
     ]
    },
    {
     "name": "stderr",
     "output_type": "stream",
     "text": [
      "c:\\Users\\nagar\\AppData\\Local\\Programs\\Python\\Python310\\lib\\site-packages\\mlflow\\types\\utils.py:452: UserWarning: Hint: Inferred schema contains integer column(s). Integer columns in Python cannot represent missing values. If your input data contains missing values at inference time, it will be encoded as floats and will cause a schema enforcement error. The best way to avoid this problem is to infer the model schema based on a realistic data sample (training dataset) that includes missing values. Alternatively, you can declare integer columns as doubles (float64) whenever these columns may have missing values. See `Handling Integers With Missing Values <https://www.mlflow.org/docs/latest/models.html#handling-integers-with-missing-values>`_ for more details.\n",
      "  warnings.warn(\n",
      "c:\\Users\\nagar\\AppData\\Local\\Programs\\Python\\Python310\\lib\\site-packages\\mlflow\\types\\utils.py:452: UserWarning: Hint: Inferred schema contains integer column(s). Integer columns in Python cannot represent missing values. If your input data contains missing values at inference time, it will be encoded as floats and will cause a schema enforcement error. The best way to avoid this problem is to infer the model schema based on a realistic data sample (training dataset) that includes missing values. Alternatively, you can declare integer columns as doubles (float64) whenever these columns may have missing values. See `Handling Integers With Missing Values <https://www.mlflow.org/docs/latest/models.html#handling-integers-with-missing-values>`_ for more details.\n",
      "  warnings.warn(\n",
      "2025/05/26 03:09:38 WARNING mlflow.models.model: Model logged without a signature and input example. Please set `input_example` parameter when logging the model to auto infer the model signature.\n"
     ]
    },
    {
     "name": "stdout",
     "output_type": "stream",
     "text": [
      "{'max_depth': None, 'n_estimators': 100}\n",
      "0.9582417582417582\n",
      "🏃 View run tasteful-bird-904 at: http://127.0.0.1:5000/#/experiments/894759314910987422/runs/248e32e333544f85ab4d841bb33420a4\n",
      "🧪 View experiment at: http://127.0.0.1:5000/#/experiments/894759314910987422\n"
     ]
    }
   ],
   "source": [
    "# import dagshub\n",
    "# dagshub.init(repo_owner='', repo_name='`, mlflow=True)\n",
    "\n",
    "# mlflow.set_tracking_uri(\"https://dagshub.com/\")\n",
    "\n",
    "mlflow.set_tracking_uri(\"http://127.0.0.1:5000\")\n",
    "\n",
    "\n",
    "\n",
    "mlflow.set_experiment('breast-cancer-rf-hp')\n",
    "\n",
    "with mlflow.start_run() as parent:\n",
    "    grid_search.fit(X_train, y_train)\n",
    "\n",
    "    # log all the child runs\n",
    "    for i in range(len(grid_search.cv_results_['params'])):\n",
    "\n",
    "        with mlflow.start_run(nested=True) as child:\n",
    "            mlflow.log_params(grid_search.cv_results_[\"params\"][i])\n",
    "            mlflow.log_metric(\"accuracy\", grid_search.cv_results_[\"mean_test_score\"][i])\n",
    "\n",
    "    # Displaying the best parameters and the best score\n",
    "    best_params = grid_search.best_params_\n",
    "    best_score = grid_search.best_score_\n",
    "\n",
    "    # Log params\n",
    "    mlflow.log_params(best_params)\n",
    "\n",
    "    # Log metrics\n",
    "    mlflow.log_metric(\"accuracy\", best_score)\n",
    "\n",
    "    # Log training data\n",
    "    train_df = X_train.copy()\n",
    "    train_df['target'] = y_train\n",
    "\n",
    "    train_df = mlflow.data.from_pandas(train_df)\n",
    "    mlflow.log_input(train_df, \"training\")\n",
    "\n",
    "    # Log test data\n",
    "    test_df = X_test.copy()\n",
    "    test_df['target'] = y_test\n",
    "\n",
    "    test_df = mlflow.data.from_pandas(test_df)\n",
    "    mlflow.log_input(test_df, \"testing\")\n",
    "\n",
    "    # Log source code\n",
    "    # mlflow.log_artifact(__file__)\n",
    "\n",
    "    # Log the best model\n",
    "    mlflow.sklearn.log_model(grid_search.best_estimator_, \"random_forest\")\n",
    "\n",
    "    # Set tags\n",
    "    mlflow.set_tag(\"author\", \"Vikash Das\")\n",
    "\n",
    "    print(best_params)\n",
    "    print(best_score)\n"
   ]
  }
 ],
 "metadata": {
  "kernelspec": {
   "display_name": "Python 3",
   "language": "python",
   "name": "python3"
  },
  "language_info": {
   "codemirror_mode": {
    "name": "ipython",
    "version": 3
   },
   "file_extension": ".py",
   "mimetype": "text/x-python",
   "name": "python",
   "nbconvert_exporter": "python",
   "pygments_lexer": "ipython3",
   "version": "3.10.10"
  }
 },
 "nbformat": 4,
 "nbformat_minor": 5
}
