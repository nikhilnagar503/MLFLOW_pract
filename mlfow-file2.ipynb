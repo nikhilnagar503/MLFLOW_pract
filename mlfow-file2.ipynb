{
 "cells": [
  {
   "cell_type": "code",
   "execution_count": null,
   "id": "85feff51",
   "metadata": {},
   "outputs": [],
   "source": []
  },
  {
   "cell_type": "code",
   "execution_count": null,
   "id": "45fdb089",
   "metadata": {},
   "outputs": [],
   "source": [
    "# >>> setting up remote server:\n",
    "# - go to Dagshub (sign up with github)\n",
    "# - create > new repo > connect a repo > github > select the repo > connect repo > \n",
    "#   go to dagshub repo > remote > experiments > copy tracking uri\n",
    "\n",
    "\n",
    "\n",
    "\n",
    "\n"
   ]
  },
  {
   "cell_type": "code",
   "execution_count": null,
   "id": "b77bbbde",
   "metadata": {},
   "outputs": [
    {
     "data": {
      "text/html": [
       "<pre style=\"white-space:pre;overflow-x:auto;line-height:normal;font-family:Menlo,'DejaVu Sans Mono',consolas,'Courier New',monospace\">                                       <span style=\"font-weight: bold\">❗❗❗ AUTHORIZATION REQUIRED ❗❗❗</span>                                        \n",
       "</pre>\n"
      ],
      "text/plain": [
       "                                       \u001b[1m❗❗❗ AUTHORIZATION REQUIRED ❗❗❗\u001b[0m                                        \n"
      ]
     },
     "metadata": {},
     "output_type": "display_data"
    },
    {
     "data": {
      "text/html": [
       "<pre style=\"white-space:pre;overflow-x:auto;line-height:normal;font-family:Menlo,'DejaVu Sans Mono',consolas,'Courier New',monospace\">c:\\Users\\nagar\\AppData\\Local\\Programs\\Python\\Python310\\lib\\site-packages\\rich\\live.py:231: UserWarning: install \n",
       "\"ipywidgets\" for Jupyter support\n",
       "  warnings.warn('install \"ipywidgets\" for Jupyter support')\n",
       "</pre>\n"
      ],
      "text/plain": [
       "c:\\Users\\nagar\\AppData\\Local\\Programs\\Python\\Python310\\lib\\site-packages\\rich\\live.py:231: UserWarning: install \n",
       "\"ipywidgets\" for Jupyter support\n",
       "  warnings.warn('install \"ipywidgets\" for Jupyter support')\n"
      ]
     },
     "metadata": {},
     "output_type": "display_data"
    },
    {
     "name": "stdout",
     "output_type": "stream",
     "text": [
      "\n",
      "\n",
      "Open the following link in your browser to authorize the client:\n",
      "https://dagshub.com/login/oauth/authorize?state=f10e6fb1-212a-4208-ad3d-14124c8a037b&client_id=32b60ba385aa7cecf24046d8195a71c07dd345d9657977863b52e7748e0f0f28&middleman_request_id=810e66a31a3a732ee8bacfb0913732ddb62b21345fb8b232a475be3a89a37633\n",
      "\n",
      "\n"
     ]
    },
    {
     "data": {
      "text/html": [
       "<pre style=\"white-space:pre;overflow-x:auto;line-height:normal;font-family:Menlo,'DejaVu Sans Mono',consolas,'Courier New',monospace\"></pre>\n"
      ],
      "text/plain": []
     },
     "metadata": {},
     "output_type": "display_data"
    },
    {
     "data": {
      "text/html": [
       "<pre style=\"white-space:pre;overflow-x:auto;line-height:normal;font-family:Menlo,'DejaVu Sans Mono',consolas,'Courier New',monospace\">Accessing as nikhilnagar503\n",
       "</pre>\n"
      ],
      "text/plain": [
       "Accessing as nikhilnagar503\n"
      ]
     },
     "metadata": {},
     "output_type": "display_data"
    },
    {
     "data": {
      "text/html": [
       "<pre style=\"white-space:pre;overflow-x:auto;line-height:normal;font-family:Menlo,'DejaVu Sans Mono',consolas,'Courier New',monospace\">Initialized MLflow to track repo <span style=\"color: #008000; text-decoration-color: #008000\">\"nikhilnagar503/MLFLOW_pract\"</span>\n",
       "</pre>\n"
      ],
      "text/plain": [
       "Initialized MLflow to track repo \u001b[32m\"nikhilnagar503/MLFLOW_pract\"\u001b[0m\n"
      ]
     },
     "metadata": {},
     "output_type": "display_data"
    },
    {
     "data": {
      "text/html": [
       "<pre style=\"white-space:pre;overflow-x:auto;line-height:normal;font-family:Menlo,'DejaVu Sans Mono',consolas,'Courier New',monospace\">Repository nikhilnagar503/MLFLOW_pract initialized!\n",
       "</pre>\n"
      ],
      "text/plain": [
       "Repository nikhilnagar503/MLFLOW_pract initialized!\n"
      ]
     },
     "metadata": {},
     "output_type": "display_data"
    }
   ],
   "source": [
    "import mlflow\n",
    "from sklearn.datasets import load_wine \n",
    "import mlflow.sklearn\n",
    "from sklearn.ensemble import RandomForestClassifier\n",
    "from sklearn.model_selection import train_test_split \n",
    "from  sklearn.metrics import accuracy_score,confusion_matrix\n",
    "import matplotlib.pyplot as plt\n",
    "import seaborn as sns\n",
    "import pandas as pd \n",
    "\n",
    "\n",
    "import dagshub\n",
    "dagshub.init(repo_owner='nikhilnagar503', repo_name='MLFLOW_pract', mlflow=True)\n"
   ]
  },
  {
   "cell_type": "code",
   "execution_count": 8,
   "id": "832ded94",
   "metadata": {},
   "outputs": [],
   "source": [
    "mlflow.set_tracking_uri(\"https://dagshub.com/nikhilnagar503/MLFLOW_pract.mlflow\")\n",
    "\n",
    "wine = load_wine()\n",
    "\n",
    "X = wine.data \n",
    "y = wine.target\n",
    "\n",
    "X_train, X_test, y_train, y_test  = train_test_split(X,y,test_size=0.2,random_state=42)\n",
    "\n",
    "\n",
    "# max_depth = 10\n",
    "# n_estimators  = 5\n",
    "\n",
    "\n",
    "# max_depth = 7\n",
    "# n_estimators  = 10\n",
    "\n",
    "\n",
    "# max_depth = 8\n",
    "# n_estimators  = 20\n",
    "\n",
    "\n",
    "max_depth = 10\n",
    "n_estimators  = 15"
   ]
  },
  {
   "cell_type": "code",
   "execution_count": 9,
   "id": "e6e84895",
   "metadata": {},
   "outputs": [
    {
     "name": "stderr",
     "output_type": "stream",
     "text": [
      "2025/05/26 02:28:01 WARNING mlflow.models.model: Model logged without a signature and input example. Please set `input_example` parameter when logging the model to auto infer the model signature.\n"
     ]
    },
    {
     "name": "stdout",
     "output_type": "stream",
     "text": [
      "1.0\n",
      "🏃 View run redolent-kit-387 at: https://dagshub.com/nikhilnagar503/MLFLOW_pract.mlflow/#/experiments/0/runs/b7d226e0e5564c0a8e746b5914b24829\n",
      "🧪 View experiment at: https://dagshub.com/nikhilnagar503/MLFLOW_pract.mlflow/#/experiments/0\n"
     ]
    },
    {
     "data": {
      "image/png": "[encoded data removed]",
      "text/plain": [
       "<Figure size 600x600 with 2 Axes>"
      ]
     },
     "metadata": {},
     "output_type": "display_data"
    }
   ],
   "source": [
    "with mlflow.start_run():\n",
    "    rf = RandomForestClassifier(max_depth=max_depth,n_estimators=n_estimators,random_state=42)\n",
    "    rf.fit(X_train,y_train)\n",
    "\n",
    "    y_pred = rf.predict(X_test)\n",
    "\n",
    "    accuracy = accuracy_score(y_test,y_pred)\n",
    "\n",
    "\n",
    "    mlflow.log_metric(\"accuracy\",accuracy)\n",
    "    mlflow.log_param(\"max_depth\",max_depth)\n",
    "    mlflow.log_param(\"n_estimators\",n_estimators)\n",
    "\n",
    "\n",
    "\n",
    "    cm = confusion_matrix(y_test, y_pred)\n",
    "\n",
    "    plt.figure(figsize=(6,6))\n",
    "    sns.heatmap(cm, annot=True, fmt='d', cmap='Blues', xticklabels=wine.target_names, yticklabels=wine.target_names)\n",
    "    plt.ylabel('Actual')\n",
    "    plt.xlabel('Predicted')\n",
    "    plt.title('Confusion Matrix')\n",
    "    plt.savefig(\"Confusion-matrix.png\")\n",
    "\n",
    "\n",
    "    mlflow.log_artifact(\"Confusion-matrix.png\")\n",
    "    \n",
    "\n",
    "    mlflow.set_tags({\"authoer\":'Nikhil',\"project\":'wine clasification'})\n",
    "\n",
    "    mlflow.sklearn.log_model(rf,\"random forest model\")\n",
    "\n",
    "\n",
    "\n",
    "    print(accuracy)"
   ]
  }
 ],
 "metadata": {
  "kernelspec": {
   "display_name": "Python 3",
   "language": "python",
   "name": "python3"
  },
  "language_info": {
   "codemirror_mode": {
    "name": "ipython",
    "version": 3
   },
   "file_extension": ".py",
   "mimetype": "text/x-python",
   "name": "python",
   "nbconvert_exporter": "python",
   "pygments_lexer": "ipython3",
   "version": "3.10.10"
  }
 },
 "nbformat": 4,
 "nbformat_minor": 5
}
