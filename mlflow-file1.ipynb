{
 "cells": [
  {
   "cell_type": "code",
   "execution_count": 1,
   "id": "e6be65a1",
   "metadata": {},
   "outputs": [],
   "source": [
    "import mlflow\n",
    "from sklearn.datasets import load_wine \n",
    "import mlflow.sklearn\n",
    "from sklearn.ensemble import RandomForestClassifier\n",
    "from sklearn.model_selection import train_test_split \n",
    "from  sklearn.metrics import accuracy_score,confusion_matrix\n",
    "import matplotlib.pyplot as plt\n",
    "import seaborn as sns\n",
    "import pandas as pd "
   ]
  },
  {
   "cell_type": "code",
   "execution_count": null,
   "id": "2a641f2d",
   "metadata": {},
   "outputs": [],
   "source": [
    "mlflow.set_tracking_uri(\"http://127.0.0.1:5000\")\n",
    "\n",
    "wine = load_wine()\n",
    "\n",
    "X = wine.data \n",
    "y = wine.target\n",
    "\n",
    "X_train, X_test, y_train, y_test  = train_test_split(X,y,test_size=0.2,random_state=42)\n",
    "\n",
    "\n",
    "# max_depth = 10\n",
    "# n_estimators  = 5\n",
    "\n",
    "\n",
    "# max_depth = 7\n",
    "# n_estimators  = 10\n",
    "\n",
    "\n",
    "# max_depth = 8\n",
    "# n_estimators  = 20\n",
    "\n",
    "\n",
    "max_depth = 10\n",
    "n_estimators  = 15"
   ]
  },
  {
   "cell_type": "code",
   "execution_count": 11,
   "id": "65966578",
   "metadata": {},
   "outputs": [
    {
     "name": "stderr",
     "output_type": "stream",
     "text": [
      "2025/05/26 01:54:02 WARNING mlflow.models.model: Model logged without a signature and input example. Please set `input_example` parameter when logging the model to auto infer the model signature.\n"
     ]
    },
    {
     "name": "stdout",
     "output_type": "stream",
     "text": [
      "0.9444444444444444\n",
      "🏃 View run loud-bug-297 at: http://127.0.0.1:5000/#/experiments/0/runs/9b916ca9e9ea491086965c6aada17059\n",
      "🧪 View experiment at: http://127.0.0.1:5000/#/experiments/0\n"
     ]
    },
    {
     "data": {
      "image/png": "[encoded data removed]",
      "text/plain": [
       "<Figure size 600x600 with 2 Axes>"
      ]
     },
     "metadata": {},
     "output_type": "display_data"
    }
   ],
   "source": [
    "with mlflow.start_run():\n",
    "    rf = RandomForestClassifier(max_depth=max_depth,n_estimators=n_estimators,random_state=42)\n",
    "    rf.fit(X_train,y_train)\n",
    "\n",
    "    y_pred = rf.predict(X_test)\n",
    "\n",
    "    accuracy = accuracy_score(y_test,y_pred)\n",
    "\n",
    "\n",
    "    mlflow.log_metric(\"accuracy\",accuracy)\n",
    "    mlflow.log_param(\"max_depth\",max_depth)\n",
    "    mlflow.log_param(\"n_estimators\",n_estimators)\n",
    "\n",
    "\n",
    "\n",
    "    cm = confusion_matrix(y_test, y_pred)\n",
    "\n",
    "    plt.figure(figsize=(6,6))\n",
    "    sns.heatmap(cm, annot=True, fmt='d', cmap='Blues', xticklabels=wine.target_names, yticklabels=wine.target_names)\n",
    "    plt.ylabel('Actual')\n",
    "    plt.xlabel('Predicted')\n",
    "    plt.title('Confusion Matrix')\n",
    "    plt.savefig(\"Confusion-matrix.png\")\n",
    "\n",
    "\n",
    "    mlflow.log_artifact(\"Confusion-matrix.png\")\n",
    "    \n",
    "\n",
    "    mlflow.set_tags({\"authoer\":'Nikhil',\"project\":'wine clasification'})\n",
    "\n",
    "    mlflow.sklearn.log_model(rf,\"random forest model\")\n",
    "\n",
    "\n",
    "\n",
    "    print(accuracy)"
   ]
  },
  {
   "cell_type": "code",
   "execution_count": null,
   "id": "179c6c26",
   "metadata": {},
   "outputs": [],
   "source": []
  },
  {
   "cell_type": "code",
   "execution_count": null,
   "id": "2bd4325e",
   "metadata": {},
   "outputs": [],
   "source": []
  },
  {
   "cell_type": "code",
   "execution_count": null,
   "id": "0881b61a",
   "metadata": {},
   "outputs": [],
   "source": []
  },
  {
   "cell_type": "code",
   "execution_count": null,
   "id": "a2689bd5",
   "metadata": {},
   "outputs": [],
   "source": []
  }
 ],
 "metadata": {
  "kernelspec": {
   "display_name": "Python 3",
   "language": "python",
   "name": "python3"
  },
  "language_info": {
   "codemirror_mode": {
    "name": "ipython",
    "version": 3
   },
   "file_extension": ".py",
   "mimetype": "text/x-python",
   "name": "python",
   "nbconvert_exporter": "python",
   "pygments_lexer": "ipython3",
   "version": "3.10.10"
  }
 },
 "nbformat": 4,
 "nbformat_minor": 5
}
